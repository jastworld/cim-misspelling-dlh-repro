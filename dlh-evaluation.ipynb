{
 "cells": [
  {
   "cell_type": "code",
   "execution_count": 1,
   "metadata": {},
   "outputs": [],
   "source": [
    "import os\n",
    "from model.word_lm import SpellCorrectionModel\n",
    "from model.char_lm import CharTokenizer\n",
    "from data.dataset import TypoDataset\n",
    "import torch\n",
    "from tqdm import tqdm\n",
    "from tabulate import tabulate\n",
    "from torch.utils.tensorboard import SummaryWriter\n"
   ]
  },
  {
   "attachments": {},
   "cell_type": "markdown",
   "metadata": {},
   "source": [
    "# Evaluate on very noisy dataset"
   ]
  },
  {
   "cell_type": "code",
   "execution_count": 2,
   "metadata": {},
   "outputs": [],
   "source": [
    "output_dir = \"./bluebert-finetuned-mimic-v1/\"\n",
    "model = SpellCorrectionModel(NCBI_BERT = output_dir, config_file= \"/config.json\", max_candidates= 150)\n",
    "typo_tokenizer = CharTokenizer()\n",
    "model.to(model.device)\n",
    "writer = SummaryWriter(log_dir='logs')"
   ]
  },
  {
   "cell_type": "code",
   "execution_count": 3,
   "metadata": {},
   "outputs": [
    {
     "name": "stdout",
     "output_type": "stream",
     "text": [
      "Read file data/dlh_multiple_misspelling/test.tsv... 30 rows\n",
      "Parsing rows (2 processes)\n"
     ]
    },
    {
     "name": "stderr",
     "output_type": "stream",
     "text": [
      "100%|██████████| 30/30 [00:04<00:00,  7.47it/s]\n"
     ]
    }
   ],
   "source": [
    "BATCH_SIZE = 30\n",
    "dataset_val = TypoDataset(os.path.join(\"data/dlh_multiple_misspelling\", 'test.tsv'), model.tokenizer, typo_tokenizer, num_process = 2)\n",
    "dataloader_val = torch.utils.data.DataLoader(dataset_val,\n",
    "                                                     batch_size=BATCH_SIZE,\n",
    "                                                     shuffle=False,\n",
    "                                                     drop_last=True,\n",
    "                                                     num_workers=0,\n",
    "                                                     collate_fn=dataset_val.get_collate_fn())"
   ]
  },
  {
   "cell_type": "code",
   "execution_count": 4,
   "metadata": {},
   "outputs": [],
   "source": [
    "data_length = len(dataset_val)"
   ]
  },
  {
   "cell_type": "code",
   "execution_count": 9,
   "metadata": {},
   "outputs": [
    {
     "name": "stderr",
     "output_type": "stream",
     "text": [
      "100%|██████████| 30/30 [00:27<00:00,  1.10it/s]\n",
      "100%|██████████| 30/30 [00:02<00:00, 14.94it/s]"
     ]
    },
    {
     "name": "stdout",
     "output_type": "stream",
     "text": [
      "Total/Correct = 30 / 2\n"
     ]
    },
    {
     "name": "stderr",
     "output_type": "stream",
     "text": [
      "100%|██████████| 30/30 [00:15<00:00, 14.94it/s]"
     ]
    }
   ],
   "source": [
    "# Evaluation\n",
    "val_iter = iter(dataloader_val)\n",
    "global_step = 0\n",
    "\n",
    "\n",
    "model.eval()\n",
    "progress_bar = tqdm(range(data_length))\n",
    "global_total = 0\n",
    "global_correct = 0\n",
    "while global_step < len(dataset_val):\n",
    "    # Evaluation\n",
    "    try:\n",
    "        batch_val = next(val_iter)\n",
    "    except StopIteration:\n",
    "        val_iter = iter(dataloader_val)\n",
    "        batch_val = next(val_iter)\n",
    "    input_ids = batch_val[\"context_tokens\"]\n",
    "    attention_mask = batch_val['context_attention_mask']\n",
    "    misspelling = batch_val['typo']\n",
    "    correct_spelling = batch_val['correct']\n",
    "    \n",
    "    with torch.no_grad():\n",
    "        _,  prediction = model.forward(input_ids, attention_mask, misspelling, correct_spelling)\n",
    "    global_total += len(correct_spelling)\n",
    "    current_correct = 0\n",
    "    for index in range(len(correct_spelling)):\n",
    "        if correct_spelling[index] == prediction[index]:\n",
    "            global_correct +=1\n",
    "    \n",
    "    \n",
    "    progress_bar.update(BATCH_SIZE)\n",
    "    #if global_step %50 == 0:\n",
    "    print(f'Total/Correct = {global_total} / {global_correct}')\n",
    "    global_step+=BATCH_SIZE\n",
    "\n",
    "    writer.add_scalar('Evaluation/Noisy-30', global_correct/global_total, global_step=global_step/BATCH_SIZE)\n"
   ]
  },
  {
   "cell_type": "code",
   "execution_count": 67,
   "metadata": {},
   "outputs": [
    {
     "name": "stdout",
     "output_type": "stream",
     "text": [
      "Correct          Misspelling     Prediction\n",
      "---------------  --------------  ------------\n",
      "[accommodation]  acomodationn    condition\n",
      "ascites          uhsits          this\n",
      "aphasia          afaciia         again\n",
      "asymmetry        asimetry        symmetry\n",
      "basilar          bazillar        vascular\n",
      "brachial         brakiale        radial\n",
      "calluses         colousses       masses\n",
      "catheterization  cathritzacion   radiation\n",
      "circumferential  circumfrencial  concurrent\n",
      "chlamydia        kluhmideeuh     hidden\n",
      "cords            chords          chords\n",
      "diaphragm        dyufram         cuff\n",
      "dyspareunia      disparoonia     diagnosis\n",
      "epididymis       epideedimus     specimen\n",
      "exacerbated      eggsaberted     ##ated\n",
      "hemorrhage       hemrage         damage\n",
      "hygiene          hijeen          hygiene\n",
      "malacia          malaysia        mass\n",
      "mucus            moucous         mouth\n",
      "oophorectomy     ooforektomy     effort\n",
      "ophthalmology    optomology      pathology\n",
      "palliative       palativee       patient\n",
      "pleurisy         plurcy          source\n",
      "polyposis        pollypoesis     diagnosis\n",
      "prostate         prostait        prostate\n",
      "seborrheic       subroick        chronic\n",
      "senile           seenyl          sense\n",
      "tonsils          tunsols         tumors\n",
      "trachea          trakecha        rash\n",
      "xerosis          zerosis         nurses\n"
     ]
    }
   ],
   "source": [
    "print(tabulate({\"Correct\": correct_spelling, \"Misspelling\": misspelling, \"Prediction\": prediction}, headers=\"keys\"))"
   ]
  },
  {
   "attachments": {},
   "cell_type": "markdown",
   "metadata": {},
   "source": [
    "## Evaluation on the evaluation dataset"
   ]
  },
  {
   "cell_type": "code",
   "execution_count": 10,
   "metadata": {},
   "outputs": [
    {
     "name": "stdout",
     "output_type": "stream",
     "text": [
      "Read file data/mimic_synthetic/val.tsv... 10000 rows\n",
      "Parsing rows (10 processes)\n"
     ]
    },
    {
     "name": "stderr",
     "output_type": "stream",
     "text": [
      "100%|██████████| 10000/10000 [00:08<00:00, 1180.17it/s]\n"
     ]
    }
   ],
   "source": [
    "BATCH_SIZE = 100\n",
    "dataset_val = TypoDataset(os.path.join(\"data/mimic_synthetic\", 'val.tsv'), model.tokenizer, typo_tokenizer)\n",
    "dataloader_val = torch.utils.data.DataLoader(dataset_val,\n",
    "                                                     batch_size=BATCH_SIZE,\n",
    "                                                     shuffle=False,\n",
    "                                                     drop_last=True,\n",
    "                                                     num_workers=0,\n",
    "                                                     collate_fn=dataset_val.get_collate_fn())"
   ]
  },
  {
   "cell_type": "code",
   "execution_count": 11,
   "metadata": {},
   "outputs": [
    {
     "data": {
      "text/plain": [
       "10000"
      ]
     },
     "execution_count": 11,
     "metadata": {},
     "output_type": "execute_result"
    }
   ],
   "source": [
    "data_length = len(dataset_val)\n",
    "data_length"
   ]
  },
  {
   "cell_type": "code",
   "execution_count": 14,
   "metadata": {},
   "outputs": [
    {
     "name": "stderr",
     "output_type": "stream",
     "text": [
      "  4%|▍         | 400/10000 [00:53<21:16,  7.52it/s]\n"
     ]
    },
    {
     "name": "stdout",
     "output_type": "stream",
     "text": [
      "Total/Correct = 100 / 62\n"
     ]
    },
    {
     "name": "stderr",
     "output_type": "stream",
     "text": []
    },
    {
     "name": "stdout",
     "output_type": "stream",
     "text": [
      "Total/Correct = 200 / 138\n"
     ]
    },
    {
     "name": "stderr",
     "output_type": "stream",
     "text": []
    },
    {
     "name": "stdout",
     "output_type": "stream",
     "text": [
      "Total/Correct = 300 / 207\n"
     ]
    },
    {
     "name": "stderr",
     "output_type": "stream",
     "text": []
    },
    {
     "name": "stdout",
     "output_type": "stream",
     "text": [
      "Total/Correct = 400 / 281\n"
     ]
    },
    {
     "name": "stderr",
     "output_type": "stream",
     "text": []
    },
    {
     "name": "stdout",
     "output_type": "stream",
     "text": [
      "Total/Correct = 500 / 355\n"
     ]
    },
    {
     "name": "stderr",
     "output_type": "stream",
     "text": []
    },
    {
     "name": "stdout",
     "output_type": "stream",
     "text": [
      "Total/Correct = 600 / 422\n"
     ]
    },
    {
     "name": "stderr",
     "output_type": "stream",
     "text": []
    },
    {
     "name": "stdout",
     "output_type": "stream",
     "text": [
      "Total/Correct = 700 / 494\n"
     ]
    },
    {
     "name": "stderr",
     "output_type": "stream",
     "text": []
    },
    {
     "name": "stdout",
     "output_type": "stream",
     "text": [
      "Total/Correct = 800 / 558\n"
     ]
    },
    {
     "name": "stderr",
     "output_type": "stream",
     "text": []
    },
    {
     "name": "stdout",
     "output_type": "stream",
     "text": [
      "Total/Correct = 900 / 620\n"
     ]
    },
    {
     "name": "stderr",
     "output_type": "stream",
     "text": []
    },
    {
     "name": "stdout",
     "output_type": "stream",
     "text": [
      "Total/Correct = 1000 / 691\n"
     ]
    },
    {
     "name": "stderr",
     "output_type": "stream",
     "text": []
    },
    {
     "name": "stdout",
     "output_type": "stream",
     "text": [
      "Total/Correct = 1100 / 753\n"
     ]
    },
    {
     "name": "stderr",
     "output_type": "stream",
     "text": []
    },
    {
     "name": "stdout",
     "output_type": "stream",
     "text": [
      "Total/Correct = 1200 / 818\n"
     ]
    },
    {
     "name": "stderr",
     "output_type": "stream",
     "text": []
    },
    {
     "name": "stdout",
     "output_type": "stream",
     "text": [
      "Total/Correct = 1300 / 895\n"
     ]
    },
    {
     "name": "stderr",
     "output_type": "stream",
     "text": []
    },
    {
     "name": "stdout",
     "output_type": "stream",
     "text": [
      "Total/Correct = 1400 / 963\n"
     ]
    },
    {
     "name": "stderr",
     "output_type": "stream",
     "text": []
    },
    {
     "name": "stdout",
     "output_type": "stream",
     "text": [
      "Total/Correct = 1500 / 1032\n"
     ]
    },
    {
     "name": "stderr",
     "output_type": "stream",
     "text": []
    },
    {
     "name": "stdout",
     "output_type": "stream",
     "text": [
      "Total/Correct = 1600 / 1098\n"
     ]
    },
    {
     "name": "stderr",
     "output_type": "stream",
     "text": []
    },
    {
     "name": "stdout",
     "output_type": "stream",
     "text": [
      "Total/Correct = 1700 / 1166\n"
     ]
    },
    {
     "name": "stderr",
     "output_type": "stream",
     "text": []
    },
    {
     "name": "stdout",
     "output_type": "stream",
     "text": [
      "Total/Correct = 1800 / 1237\n"
     ]
    },
    {
     "name": "stderr",
     "output_type": "stream",
     "text": []
    },
    {
     "name": "stdout",
     "output_type": "stream",
     "text": [
      "Total/Correct = 1900 / 1310\n"
     ]
    },
    {
     "name": "stderr",
     "output_type": "stream",
     "text": []
    },
    {
     "name": "stdout",
     "output_type": "stream",
     "text": [
      "Total/Correct = 2000 / 1378\n"
     ]
    },
    {
     "name": "stderr",
     "output_type": "stream",
     "text": []
    },
    {
     "name": "stdout",
     "output_type": "stream",
     "text": [
      "Total/Correct = 2100 / 1440\n"
     ]
    },
    {
     "name": "stderr",
     "output_type": "stream",
     "text": []
    },
    {
     "name": "stdout",
     "output_type": "stream",
     "text": [
      "Total/Correct = 2200 / 1506\n"
     ]
    },
    {
     "name": "stderr",
     "output_type": "stream",
     "text": []
    },
    {
     "name": "stdout",
     "output_type": "stream",
     "text": [
      "Total/Correct = 2300 / 1580\n"
     ]
    },
    {
     "name": "stderr",
     "output_type": "stream",
     "text": []
    },
    {
     "name": "stdout",
     "output_type": "stream",
     "text": [
      "Total/Correct = 2400 / 1651\n"
     ]
    },
    {
     "name": "stderr",
     "output_type": "stream",
     "text": []
    },
    {
     "name": "stdout",
     "output_type": "stream",
     "text": [
      "Total/Correct = 2500 / 1727\n"
     ]
    },
    {
     "name": "stderr",
     "output_type": "stream",
     "text": []
    },
    {
     "name": "stdout",
     "output_type": "stream",
     "text": [
      "Total/Correct = 2600 / 1792\n"
     ]
    },
    {
     "name": "stderr",
     "output_type": "stream",
     "text": []
    },
    {
     "name": "stdout",
     "output_type": "stream",
     "text": [
      "Total/Correct = 2700 / 1863\n"
     ]
    },
    {
     "name": "stderr",
     "output_type": "stream",
     "text": []
    },
    {
     "name": "stdout",
     "output_type": "stream",
     "text": [
      "Total/Correct = 2800 / 1934\n"
     ]
    },
    {
     "name": "stderr",
     "output_type": "stream",
     "text": []
    },
    {
     "name": "stdout",
     "output_type": "stream",
     "text": [
      "Total/Correct = 2900 / 2008\n"
     ]
    },
    {
     "name": "stderr",
     "output_type": "stream",
     "text": []
    },
    {
     "name": "stdout",
     "output_type": "stream",
     "text": [
      "Total/Correct = 3000 / 2081\n"
     ]
    },
    {
     "name": "stderr",
     "output_type": "stream",
     "text": []
    },
    {
     "name": "stdout",
     "output_type": "stream",
     "text": [
      "Total/Correct = 3100 / 2146\n"
     ]
    },
    {
     "name": "stderr",
     "output_type": "stream",
     "text": []
    },
    {
     "name": "stdout",
     "output_type": "stream",
     "text": [
      "Total/Correct = 3200 / 2218\n"
     ]
    },
    {
     "name": "stderr",
     "output_type": "stream",
     "text": []
    },
    {
     "name": "stdout",
     "output_type": "stream",
     "text": [
      "Total/Correct = 3300 / 2290\n"
     ]
    },
    {
     "name": "stderr",
     "output_type": "stream",
     "text": []
    },
    {
     "name": "stdout",
     "output_type": "stream",
     "text": [
      "Total/Correct = 3400 / 2355\n"
     ]
    },
    {
     "name": "stderr",
     "output_type": "stream",
     "text": []
    },
    {
     "name": "stdout",
     "output_type": "stream",
     "text": [
      "Total/Correct = 3500 / 2418\n"
     ]
    },
    {
     "name": "stderr",
     "output_type": "stream",
     "text": []
    },
    {
     "name": "stdout",
     "output_type": "stream",
     "text": [
      "Total/Correct = 3600 / 2484\n"
     ]
    },
    {
     "name": "stderr",
     "output_type": "stream",
     "text": []
    },
    {
     "name": "stdout",
     "output_type": "stream",
     "text": [
      "Total/Correct = 3700 / 2557\n"
     ]
    },
    {
     "name": "stderr",
     "output_type": "stream",
     "text": []
    },
    {
     "name": "stdout",
     "output_type": "stream",
     "text": [
      "Total/Correct = 3800 / 2629\n"
     ]
    },
    {
     "name": "stderr",
     "output_type": "stream",
     "text": []
    },
    {
     "name": "stdout",
     "output_type": "stream",
     "text": [
      "Total/Correct = 3900 / 2700\n"
     ]
    },
    {
     "name": "stderr",
     "output_type": "stream",
     "text": []
    },
    {
     "name": "stdout",
     "output_type": "stream",
     "text": [
      "Total/Correct = 4000 / 2770\n"
     ]
    },
    {
     "name": "stderr",
     "output_type": "stream",
     "text": []
    },
    {
     "name": "stdout",
     "output_type": "stream",
     "text": [
      "Total/Correct = 4100 / 2829\n"
     ]
    },
    {
     "name": "stderr",
     "output_type": "stream",
     "text": []
    },
    {
     "name": "stdout",
     "output_type": "stream",
     "text": [
      "Total/Correct = 4200 / 2894\n"
     ]
    },
    {
     "name": "stderr",
     "output_type": "stream",
     "text": []
    },
    {
     "name": "stdout",
     "output_type": "stream",
     "text": [
      "Total/Correct = 4300 / 2965\n"
     ]
    },
    {
     "name": "stderr",
     "output_type": "stream",
     "text": []
    },
    {
     "name": "stdout",
     "output_type": "stream",
     "text": [
      "Total/Correct = 4400 / 3039\n"
     ]
    },
    {
     "name": "stderr",
     "output_type": "stream",
     "text": []
    },
    {
     "name": "stdout",
     "output_type": "stream",
     "text": [
      "Total/Correct = 4500 / 3110\n"
     ]
    },
    {
     "name": "stderr",
     "output_type": "stream",
     "text": []
    },
    {
     "name": "stdout",
     "output_type": "stream",
     "text": [
      "Total/Correct = 4600 / 3177\n"
     ]
    },
    {
     "name": "stderr",
     "output_type": "stream",
     "text": []
    },
    {
     "name": "stdout",
     "output_type": "stream",
     "text": [
      "Total/Correct = 4700 / 3246\n"
     ]
    },
    {
     "name": "stderr",
     "output_type": "stream",
     "text": []
    },
    {
     "name": "stdout",
     "output_type": "stream",
     "text": [
      "Total/Correct = 4800 / 3325\n"
     ]
    },
    {
     "name": "stderr",
     "output_type": "stream",
     "text": []
    },
    {
     "name": "stdout",
     "output_type": "stream",
     "text": [
      "Total/Correct = 4900 / 3381\n"
     ]
    },
    {
     "name": "stderr",
     "output_type": "stream",
     "text": []
    },
    {
     "name": "stdout",
     "output_type": "stream",
     "text": [
      "Total/Correct = 5000 / 3444\n"
     ]
    },
    {
     "name": "stderr",
     "output_type": "stream",
     "text": []
    },
    {
     "name": "stdout",
     "output_type": "stream",
     "text": [
      "Total/Correct = 5100 / 3519\n"
     ]
    },
    {
     "name": "stderr",
     "output_type": "stream",
     "text": []
    },
    {
     "name": "stdout",
     "output_type": "stream",
     "text": [
      "Total/Correct = 5200 / 3594\n"
     ]
    },
    {
     "name": "stderr",
     "output_type": "stream",
     "text": []
    },
    {
     "name": "stdout",
     "output_type": "stream",
     "text": [
      "Total/Correct = 5300 / 3663\n"
     ]
    },
    {
     "name": "stderr",
     "output_type": "stream",
     "text": []
    },
    {
     "name": "stdout",
     "output_type": "stream",
     "text": [
      "Total/Correct = 5400 / 3739\n"
     ]
    },
    {
     "name": "stderr",
     "output_type": "stream",
     "text": []
    },
    {
     "name": "stdout",
     "output_type": "stream",
     "text": [
      "Total/Correct = 5500 / 3805\n"
     ]
    },
    {
     "name": "stderr",
     "output_type": "stream",
     "text": []
    },
    {
     "name": "stdout",
     "output_type": "stream",
     "text": [
      "Total/Correct = 5600 / 3874\n"
     ]
    },
    {
     "name": "stderr",
     "output_type": "stream",
     "text": []
    },
    {
     "name": "stdout",
     "output_type": "stream",
     "text": [
      "Total/Correct = 5700 / 3929\n"
     ]
    },
    {
     "name": "stderr",
     "output_type": "stream",
     "text": []
    },
    {
     "name": "stdout",
     "output_type": "stream",
     "text": [
      "Total/Correct = 5800 / 3994\n"
     ]
    },
    {
     "name": "stderr",
     "output_type": "stream",
     "text": []
    },
    {
     "name": "stdout",
     "output_type": "stream",
     "text": [
      "Total/Correct = 5900 / 4061\n"
     ]
    },
    {
     "name": "stderr",
     "output_type": "stream",
     "text": []
    },
    {
     "name": "stdout",
     "output_type": "stream",
     "text": [
      "Total/Correct = 6000 / 4130\n"
     ]
    },
    {
     "name": "stderr",
     "output_type": "stream",
     "text": []
    },
    {
     "name": "stdout",
     "output_type": "stream",
     "text": [
      "Total/Correct = 6100 / 4199\n"
     ]
    },
    {
     "name": "stderr",
     "output_type": "stream",
     "text": []
    },
    {
     "name": "stdout",
     "output_type": "stream",
     "text": [
      "Total/Correct = 6200 / 4268\n"
     ]
    },
    {
     "name": "stderr",
     "output_type": "stream",
     "text": []
    },
    {
     "name": "stdout",
     "output_type": "stream",
     "text": [
      "Total/Correct = 6300 / 4332\n"
     ]
    },
    {
     "name": "stderr",
     "output_type": "stream",
     "text": []
    },
    {
     "name": "stdout",
     "output_type": "stream",
     "text": [
      "Total/Correct = 6400 / 4395\n"
     ]
    },
    {
     "name": "stderr",
     "output_type": "stream",
     "text": []
    },
    {
     "name": "stdout",
     "output_type": "stream",
     "text": [
      "Total/Correct = 6500 / 4469\n"
     ]
    },
    {
     "name": "stderr",
     "output_type": "stream",
     "text": []
    },
    {
     "name": "stdout",
     "output_type": "stream",
     "text": [
      "Total/Correct = 6600 / 4538\n"
     ]
    },
    {
     "name": "stderr",
     "output_type": "stream",
     "text": []
    },
    {
     "name": "stdout",
     "output_type": "stream",
     "text": [
      "Total/Correct = 6700 / 4614\n"
     ]
    },
    {
     "name": "stderr",
     "output_type": "stream",
     "text": []
    },
    {
     "name": "stdout",
     "output_type": "stream",
     "text": [
      "Total/Correct = 6800 / 4692\n"
     ]
    },
    {
     "name": "stderr",
     "output_type": "stream",
     "text": []
    },
    {
     "name": "stdout",
     "output_type": "stream",
     "text": [
      "Total/Correct = 6900 / 4762\n"
     ]
    },
    {
     "name": "stderr",
     "output_type": "stream",
     "text": []
    },
    {
     "name": "stdout",
     "output_type": "stream",
     "text": [
      "Total/Correct = 7000 / 4836\n"
     ]
    },
    {
     "name": "stderr",
     "output_type": "stream",
     "text": []
    },
    {
     "name": "stdout",
     "output_type": "stream",
     "text": [
      "Total/Correct = 7100 / 4909\n"
     ]
    },
    {
     "name": "stderr",
     "output_type": "stream",
     "text": []
    },
    {
     "name": "stdout",
     "output_type": "stream",
     "text": [
      "Total/Correct = 7200 / 4976\n"
     ]
    },
    {
     "name": "stderr",
     "output_type": "stream",
     "text": []
    },
    {
     "name": "stdout",
     "output_type": "stream",
     "text": [
      "Total/Correct = 7300 / 5047\n"
     ]
    },
    {
     "name": "stderr",
     "output_type": "stream",
     "text": []
    },
    {
     "name": "stdout",
     "output_type": "stream",
     "text": [
      "Total/Correct = 7400 / 5125\n"
     ]
    },
    {
     "name": "stderr",
     "output_type": "stream",
     "text": []
    },
    {
     "name": "stdout",
     "output_type": "stream",
     "text": [
      "Total/Correct = 7500 / 5197\n"
     ]
    },
    {
     "name": "stderr",
     "output_type": "stream",
     "text": []
    },
    {
     "name": "stdout",
     "output_type": "stream",
     "text": [
      "Total/Correct = 7600 / 5266\n"
     ]
    },
    {
     "name": "stderr",
     "output_type": "stream",
     "text": []
    },
    {
     "name": "stdout",
     "output_type": "stream",
     "text": [
      "Total/Correct = 7700 / 5334\n"
     ]
    },
    {
     "name": "stderr",
     "output_type": "stream",
     "text": []
    },
    {
     "name": "stdout",
     "output_type": "stream",
     "text": [
      "Total/Correct = 7800 / 5407\n"
     ]
    },
    {
     "name": "stderr",
     "output_type": "stream",
     "text": []
    },
    {
     "name": "stdout",
     "output_type": "stream",
     "text": [
      "Total/Correct = 7900 / 5474\n"
     ]
    },
    {
     "name": "stderr",
     "output_type": "stream",
     "text": []
    },
    {
     "name": "stdout",
     "output_type": "stream",
     "text": [
      "Total/Correct = 8000 / 5542\n"
     ]
    },
    {
     "name": "stderr",
     "output_type": "stream",
     "text": []
    },
    {
     "name": "stdout",
     "output_type": "stream",
     "text": [
      "Total/Correct = 8100 / 5617\n"
     ]
    },
    {
     "name": "stderr",
     "output_type": "stream",
     "text": []
    },
    {
     "name": "stdout",
     "output_type": "stream",
     "text": [
      "Total/Correct = 8200 / 5690\n"
     ]
    },
    {
     "name": "stderr",
     "output_type": "stream",
     "text": []
    },
    {
     "name": "stdout",
     "output_type": "stream",
     "text": [
      "Total/Correct = 8300 / 5750\n"
     ]
    },
    {
     "name": "stderr",
     "output_type": "stream",
     "text": []
    },
    {
     "name": "stdout",
     "output_type": "stream",
     "text": [
      "Total/Correct = 8400 / 5813\n"
     ]
    },
    {
     "name": "stderr",
     "output_type": "stream",
     "text": []
    },
    {
     "name": "stdout",
     "output_type": "stream",
     "text": [
      "Total/Correct = 8500 / 5877\n"
     ]
    },
    {
     "name": "stderr",
     "output_type": "stream",
     "text": []
    },
    {
     "name": "stdout",
     "output_type": "stream",
     "text": [
      "Total/Correct = 8600 / 5948\n"
     ]
    },
    {
     "name": "stderr",
     "output_type": "stream",
     "text": []
    },
    {
     "name": "stdout",
     "output_type": "stream",
     "text": [
      "Total/Correct = 8700 / 6019\n"
     ]
    },
    {
     "name": "stderr",
     "output_type": "stream",
     "text": []
    },
    {
     "name": "stdout",
     "output_type": "stream",
     "text": [
      "Total/Correct = 8800 / 6097\n"
     ]
    },
    {
     "name": "stderr",
     "output_type": "stream",
     "text": []
    },
    {
     "name": "stdout",
     "output_type": "stream",
     "text": [
      "Total/Correct = 8900 / 6170\n"
     ]
    },
    {
     "name": "stderr",
     "output_type": "stream",
     "text": []
    },
    {
     "name": "stdout",
     "output_type": "stream",
     "text": [
      "Total/Correct = 9000 / 6240\n"
     ]
    },
    {
     "name": "stderr",
     "output_type": "stream",
     "text": []
    },
    {
     "name": "stdout",
     "output_type": "stream",
     "text": [
      "Total/Correct = 9100 / 6307\n"
     ]
    },
    {
     "name": "stderr",
     "output_type": "stream",
     "text": []
    },
    {
     "name": "stdout",
     "output_type": "stream",
     "text": [
      "Total/Correct = 9200 / 6379\n"
     ]
    },
    {
     "name": "stderr",
     "output_type": "stream",
     "text": []
    },
    {
     "name": "stdout",
     "output_type": "stream",
     "text": [
      "Total/Correct = 9300 / 6442\n"
     ]
    },
    {
     "name": "stderr",
     "output_type": "stream",
     "text": []
    },
    {
     "name": "stdout",
     "output_type": "stream",
     "text": [
      "Total/Correct = 9400 / 6508\n"
     ]
    },
    {
     "name": "stderr",
     "output_type": "stream",
     "text": []
    },
    {
     "name": "stdout",
     "output_type": "stream",
     "text": [
      "Total/Correct = 9500 / 6577\n"
     ]
    },
    {
     "name": "stderr",
     "output_type": "stream",
     "text": []
    },
    {
     "name": "stdout",
     "output_type": "stream",
     "text": [
      "Total/Correct = 9600 / 6645\n"
     ]
    },
    {
     "name": "stderr",
     "output_type": "stream",
     "text": []
    },
    {
     "name": "stdout",
     "output_type": "stream",
     "text": [
      "Total/Correct = 9700 / 6717\n"
     ]
    },
    {
     "name": "stderr",
     "output_type": "stream",
     "text": []
    },
    {
     "name": "stdout",
     "output_type": "stream",
     "text": [
      "Total/Correct = 9800 / 6782\n"
     ]
    },
    {
     "name": "stderr",
     "output_type": "stream",
     "text": []
    },
    {
     "name": "stdout",
     "output_type": "stream",
     "text": [
      "Total/Correct = 9900 / 6855\n"
     ]
    },
    {
     "name": "stderr",
     "output_type": "stream",
     "text": []
    },
    {
     "name": "stdout",
     "output_type": "stream",
     "text": [
      "Total/Correct = 10000 / 6928\n"
     ]
    }
   ],
   "source": [
    "# Evaluation\n",
    "val_iter = iter(dataloader_val)\n",
    "global_step = 0\n",
    "\n",
    "\n",
    "model.eval()\n",
    "progress_bar = tqdm(range(data_length))\n",
    "global_total = 0\n",
    "global_correct = 0\n",
    "while global_step < len(dataset_val):\n",
    "    # Evaluation\n",
    "    try:\n",
    "        batch_val = next(val_iter)\n",
    "    except StopIteration:\n",
    "        val_iter = iter(dataloader_val)\n",
    "        batch_val = next(val_iter)\n",
    "    input_ids = batch_val[\"context_tokens\"]\n",
    "    attention_mask = batch_val['context_attention_mask']\n",
    "    misspelling = batch_val['typo']\n",
    "    correct_spelling = batch_val['correct']\n",
    "    \n",
    "    with torch.no_grad():\n",
    "        _,  prediction = model.forward(input_ids, attention_mask, misspelling, correct_spelling)\n",
    "    global_total += len(correct_spelling)\n",
    "    current_correct = 0\n",
    "    for index in range(len(correct_spelling)):\n",
    "        if correct_spelling[index] == prediction[index]:\n",
    "            global_correct +=1\n",
    "    \n",
    "    \n",
    "    progress_bar.update(BATCH_SIZE)\n",
    "    print(f'Total/Correct = {global_total} / {global_correct}')\n",
    "    global_step+=BATCH_SIZE\n",
    "    writer.add_scalar('Evaluation/model-eval', global_correct/global_total, global_step=global_step/BATCH_SIZE)\n"
   ]
  },
  {
   "attachments": {},
   "cell_type": "markdown",
   "metadata": {},
   "source": [
    "# Model Evaluation on Synthetic Validation Set"
   ]
  },
  {
   "cell_type": "code",
   "execution_count": 15,
   "metadata": {},
   "outputs": [
    {
     "name": "stdout",
     "output_type": "stream",
     "text": [
      "Read file data/dlh_mimic_synthetic/val.tsv... 10000 rows\n",
      "Parsing rows (10 processes)\n"
     ]
    },
    {
     "name": "stderr",
     "output_type": "stream",
     "text": [
      "100%|██████████| 10000/10000 [00:08<00:00, 1147.19it/s]\n"
     ]
    },
    {
     "data": {
      "text/plain": [
       "10000"
      ]
     },
     "execution_count": 15,
     "metadata": {},
     "output_type": "execute_result"
    }
   ],
   "source": [
    "BATCH_SIZE = 100\n",
    "dataset_val = TypoDataset(os.path.join(\"data/dlh_mimic_synthetic\", 'val.tsv'), model.tokenizer, typo_tokenizer)\n",
    "dataloader_val = torch.utils.data.DataLoader(dataset_val,\n",
    "                                                     batch_size=BATCH_SIZE,\n",
    "                                                     shuffle=False,\n",
    "                                                     drop_last=True,\n",
    "                                                     num_workers=0,\n",
    "                                                     collate_fn=dataset_val.get_collate_fn())\n",
    "data_length = len(dataset_val)\n",
    "data_length"
   ]
  },
  {
   "cell_type": "code",
   "execution_count": 17,
   "metadata": {},
   "outputs": [
    {
     "name": "stderr",
     "output_type": "stream",
     "text": [
      "  0%|          | 0/10000 [12:23<?, ?it/s]\n"
     ]
    }
   ],
   "source": [
    "# Evaluation\n",
    "val_iter = iter(dataloader_val)\n",
    "global_step = 0\n",
    "\n",
    "\n",
    "model.eval()\n",
    "progress_bar = tqdm(range(data_length))\n",
    "global_total = 0\n",
    "global_correct = 0\n",
    "while global_step < len(dataset_val):\n",
    "    # Evaluation\n",
    "    try:\n",
    "        batch_val = next(val_iter)\n",
    "    except StopIteration:\n",
    "        val_iter = iter(dataloader_val)\n",
    "        batch_val = next(val_iter)\n",
    "    input_ids = batch_val[\"context_tokens\"]\n",
    "    attention_mask = batch_val['context_attention_mask']\n",
    "    misspelling = batch_val['typo']\n",
    "    correct_spelling = batch_val['correct']\n",
    "    \n",
    "    with torch.no_grad():\n",
    "        outputs,  prediction, label = model.forward(input_ids, attention_mask, misspelling, correct_spelling)\n",
    "    global_total += len(correct_spelling)\n",
    "    current_correct = 0\n",
    "    for index in range(len(correct_spelling)):\n",
    "        if correct_spelling[index] == prediction[index]:\n",
    "            global_correct +=1\n",
    "    \n",
    "    \n",
    "    progress_bar.update(BATCH_SIZE)\n",
    "    print(f'Total/Correct = {global_total} / {global_correct}')\n",
    "    global_step+=BATCH_SIZE\n",
    "    writer.add_scalar('Evaluation/synthetic-eval', global_correct/global_total, global_step=global_step/BATCH_SIZE)\n"
   ]
  },
  {
   "cell_type": "code",
   "execution_count": null,
   "metadata": {},
   "outputs": [],
   "source": []
  },
  {
   "cell_type": "code",
   "execution_count": null,
   "metadata": {},
   "outputs": [],
   "source": []
  }
 ],
 "metadata": {
  "kernelspec": {
   "display_name": "Python 3.10  (repro-dlh)",
   "language": "python",
   "name": "repro-dlh"
  },
  "language_info": {
   "codemirror_mode": {
    "name": "ipython",
    "version": 3
   },
   "file_extension": ".py",
   "mimetype": "text/x-python",
   "name": "python",
   "nbconvert_exporter": "python",
   "pygments_lexer": "ipython3",
   "version": "3.10.10"
  },
  "orig_nbformat": 4
 },
 "nbformat": 4,
 "nbformat_minor": 2
}
