{
 "cells": [
  {
   "cell_type": "markdown",
   "id": "7dce1b25",
   "metadata": {},
   "source": [
    "# DLH Multiple Words Misspelling Dataset\n",
    "\n",
    "The CIM model has been designed to correct single-word misspellings in clinical text. The authors intend to improve the model in the future to correct sentences with multiple word misspellings more accurately. We wanted to test how the model performs on these types of sentences prior to future updates.\n",
    "\n",
    "We created a dataframe of 30 commonly misspelled medical words (from https://www.meditec.com/resourcestools/medical-words/commonly-misspelled-words) and created sentences with 3 misspellings per sentence in addition to the main misspelled word. The sentences are completely made up by us, so there was no need for pseudonymization. We provide the dataframe with the correct spelling of each word, as well. We convert the dataframe to a test.tsv file in accordance with what the model is looking for.\n",
    "\n",
    "To run the model on this dataset, run the cells in this Jupyter notebook to save the test.tsv file into the 'dlh_multiple_misspelling' folder under 'data', and then modify the eval_cim_base.sh and/or eval_cim_large.sh files to test the .tsv file under this folder."
   ]
  },
  {
   "cell_type": "code",
   "execution_count": 32,
   "id": "ebbe6d61",
   "metadata": {},
   "outputs": [],
   "source": [
    "import pandas as pd"
   ]
  },
  {
   "cell_type": "code",
   "execution_count": 33,
   "id": "97944e9b",
   "metadata": {},
   "outputs": [],
   "source": [
    "words = ['acomodationn', 'uhsits', 'afaciia', 'asimetry', 'bazillar', 'brakiale', 'colousses', 'cathritzacion', 'circumfrencial', 'kluhmideeuh', 'chords', 'dyufram', 'disparoonia', 'epideedimus', 'eggsaberted', 'hemrage', 'hijeen', 'malaysia', 'moucous', 'ooforektomy', 'optomology', 'palativee', 'plurcy', 'pollypoesis', 'prostait', 'subroick', 'seenyl', 'tunsols', 'trakecha', 'zerosis']\n",
    "left = ['the', 'the complacation is', 'He ha', 'The', 'The', 'His', 'She has severial', 'The', 'A', 'The STD is in fact', 'The operah singers vocal', 'She has truble with her', 'The cause of his', 'The', 'Her symptoms have ben', 'The', 'Lack of good', '', 'Due to allergies her', 'An', 'The department of', 'At the point of', '', 'Often', 'The', '', 'She dose not have simptoms of beng', 'Her', 'His', '']\n",
    "right = ['will not be haunured for the patient do to fedral law', 'which is tpicaly caused by serosis', 'due to the tbi caused by Swiss alp ski acident last mont', 'of her lft and rite side of face are not a sine of anything abnormal', 'arthery is formed by conflewence of vertbral arteries', 'artrie supplies blud flow incorrectly as its served', 'look like bunyens but in fact are akewt', 'went wll however they are exprincing some arm pain daly', 'disection of the artrie may be necesary', 'so antbiotics will be necesary for the patent', 'contain sevral polips that need to be removed', 'and dyuframatic breathing technics', 'is likely sickological and not fisical however lets conduct sevral more tests', 'is clarly affected by epideedimitis but not from kluhmideeuh', 'du to lack of movment and blood flow', 'is non fatalle however he will need cute rehab for two to for months', 'has given her sevral rashes, hivs, and even worse ecsema', 'is present but the tisue is not ecsesivily soft yet but may continu to worsen', 'is clear and goey, can give her clartin anthistamin', 'is preferable in this case to histirectomy as hormnal balance can be improved this methode', 'in this hospital is happy to take in new patents and customrs under the age of five with or without inshurance', 'care patients can be transffered to the rehab centor helplin for more information', 'in this case was cused by influnzea b but not infectous to others', 'is heredtary and in this case that remans to be true, luckily it is benine', 'glande is below the blades and grows larger with age in malles', 'dermtitis is causing dandruf in the patneet', 'in fact she is very sharp', 'are inflamed and we recomend a tunsolectomy as quickl as possible', 'has been affected by smokin cigretes daily for 50 yers', 'curently present with this patent on hands legs feet and elbos']\n",
    "correct = ['accommodation', 'ascites', 'aphasia', 'asymmetry', 'basilar', 'brachial', 'calluses', 'catheterization', 'circumferential', 'chlamydia', 'cords', 'diaphragm', 'dyspareunia', 'epididymis', 'exacerbated', 'hemorrhage', 'hygiene', 'malacia', 'mucus', 'oophorectomy', 'ophthalmology', 'palliative', 'pleurisy', 'polyposis', 'prostate', 'seborrheic', 'senile', 'tonsils', 'trachea', 'xerosis']"
   ]
  },
  {
   "cell_type": "code",
   "execution_count": 34,
   "id": "e2dab88f",
   "metadata": {},
   "outputs": [],
   "source": [
    "# create dataset of commonly misspelled medical words with 3 additional misspellings per sentence\n",
    "dlh_dataset = {}\n",
    "for i, word in enumerate(words):\n",
    "    dlh_dataset[i] = {'index': i,\n",
    "                  'note_id': i,\n",
    "                  'word': word,\n",
    "                  'left': left[i],\n",
    "                  'right': right[i],\n",
    "                  'correct': correct[i]}\n",
    "\n",
    "# create Pandas DataFrame of data\n",
    "df = pd.DataFrame(dlh_dataset)\n",
    "\n",
    "# transpose to get into correct format for model\n",
    "df = df.T\n",
    "\n",
    "# convert DataFrame to test tsv file and save to /data/dlh_multiple_misspelling\n",
    "df.to_csv('../data/dlh_multiple_misspelling/test.tsv', sep=\"\\t\", index=False)"
   ]
  }
 ],
 "metadata": {
  "kernelspec": {
   "display_name": "Python 3 (ipykernel)",
   "language": "python",
   "name": "python3"
  },
  "language_info": {
   "codemirror_mode": {
    "name": "ipython",
    "version": 3
   },
   "file_extension": ".py",
   "mimetype": "text/x-python",
   "name": "python",
   "nbconvert_exporter": "python",
   "pygments_lexer": "ipython3",
   "version": "3.10.9"
  }
 },
 "nbformat": 4,
 "nbformat_minor": 5
}
